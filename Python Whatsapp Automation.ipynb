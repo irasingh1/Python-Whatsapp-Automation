{
 "cells": [
  {
   "cell_type": "code",
   "execution_count": 19,
   "id": "00f86686-016e-486c-b915-262cbb94ac91",
   "metadata": {},
   "outputs": [
    {
     "name": "stdout",
     "output_type": "stream",
     "text": [
      "Please scan the QR code to log in.\n",
      "Login successful.\n"
     ]
    }
   ],
   "source": [
    "from selenium import webdriver\n",
    "from selenium.webdriver.common.by import By\n",
    "from selenium.webdriver.support.ui import WebDriverWait\n",
    "from selenium.webdriver.support import expected_conditions as EC\n",
    "from selenium.webdriver.chrome.service import Service\n",
    "from selenium.webdriver.chrome.options import Options\n",
    "from webdriver_manager.chrome import ChromeDriverManager\n",
    "import time\n",
    "\n",
    "# Define phone number and message\n",
    "phone = \"17373419078\"  # Replace with the recipient's number\n",
    "message = \"Hi There. This is a test message\"\n",
    "\n",
    "# Configure WebDriver options\n",
    "options = Options()\n",
    "options.add_argument('--no-sandbox')\n",
    "options.add_argument('--disable-dev-shm-usage')\n",
    "\n",
    "# Initialize WebDriver\n",
    "browser = webdriver.Chrome(service=Service(ChromeDriverManager().install()), options=options)\n",
    "\n",
    "BASE_URL = \"https://web.whatsapp.com/\"\n",
    "CHAT_URL = f\"https://web.whatsapp.com/send?phone={phone}&text={message}\"\n",
    "\n",
    "# Open WhatsApp Web\n",
    "browser.get(BASE_URL)\n",
    "print(\"Please scan the QR code to log in.\")\n",
    "try:\n",
    "    WebDriverWait(browser, 120).until(EC.presence_of_element_located((By.XPATH, \"//canvas\")))\n",
    "    print(\"Login successful.\")\n",
    "except Exception as e:\n",
    "    print(\"Error logging in:\", e)\n",
    "    browser.quit()\n",
    "    exit()\n",
    "\n",
    "# Open the chat\n",
    "browser.get(CHAT_URL)\n",
    "\n",
    "time.sleep(3)\n",
    "\n",
    "send_button_xpath = '//*[@id=\"main\"]/footer/div[1]/div/span/div/div[2]/div[2]/button'\n",
    "time.sleep(1)\n",
    "send_button = WebDriverWait(browser, 2000).until(EC.element_to_be_clickable((By.XPATH, send_button_xpath)))\n",
    "time.sleep(1)\n",
    "send_button.click()"
   ]
  },
  {
   "cell_type": "code",
   "execution_count": null,
   "id": "b928229e-76db-4207-9455-c6535b7f7cd5",
   "metadata": {},
   "outputs": [],
   "source": []
  }
 ],
 "metadata": {
  "kernelspec": {
   "display_name": "Python 3 (ipykernel)",
   "language": "python",
   "name": "python3"
  },
  "language_info": {
   "codemirror_mode": {
    "name": "ipython",
    "version": 3
   },
   "file_extension": ".py",
   "mimetype": "text/x-python",
   "name": "python",
   "nbconvert_exporter": "python",
   "pygments_lexer": "ipython3",
   "version": "3.12.7"
  }
 },
 "nbformat": 4,
 "nbformat_minor": 5
}
